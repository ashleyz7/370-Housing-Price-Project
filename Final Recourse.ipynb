{
 "cells": [
  {
   "cell_type": "markdown",
   "metadata": {},
   "source": [
    "## INFO 370 FINAL PROJECT"
   ]
  },
  {
   "cell_type": "markdown",
   "metadata": {},
   "source": [
    "**Jonathan Lin, Yu Che Lin, Eva Yin, Ashley Zhou**"
   ]
  },
  {
   "cell_type": "markdown",
   "metadata": {},
   "source": [
    "#### Project Overview"
   ]
  },
  {
   "cell_type": "markdown",
   "metadata": {},
   "source": [
    "In this research project, our team aims to identify potential factors that have an effect on the total prices of a individual housing (which is the totalPrice listed in the dataset in a certain time period) in Beijing. After that, we try to use those factors to predict the total price of each housing in 2019."
   ]
  },
  {
   "cell_type": "markdown",
   "metadata": {},
   "source": [
    "In terms of the source of data, we mainly work with the Kaggle Research Dataset (https://www.kaggle.com/ruiqurm/lianjia). The dataset includes various different housing relevant metrics, like the time of transaction, the square of house, the number of bathroom, etc."
   ]
  },
  {
   "cell_type": "markdown",
   "metadata": {},
   "source": [
    "The target audience of our recourse would be groups of people who are planning to buy or sell houses in a few months or years, either for their own usage or for financial investment. Therefore, we hope our audience would be able to gain some insights about the trend of listed housing prices in city Beijing, which may ultimately help them decide what some which months are the best time to buy or sell the properties and how to pick houses that have greater growth potential, etc."
   ]
  },
  {
   "cell_type": "markdown",
   "metadata": {},
   "source": [
    "**Background Information**"
   ]
  },
  {
   "cell_type": "markdown",
   "metadata": {},
   "source": [
    "To begin with, we did some background research to help contextualize your research. We believe our research would be really useful for our potential audience as one of the paper clearly states that, “property values have become an increasingly common topic of conversation in recent years”. In addition, it also mentions the most influential factors on housing price, including supply and demand, interest rates, economic growth, demographics, location, the potential of growth, a second bedroom, parking, home improvements. Each of them has a different level and direction of effects with the price of houses (House Prices). Similaryly, according to another research paper that focuses on finding the factors that influence the real estate price in London, several of the most significant variables that may affect house price including population density, income, and GVA (which is the measure of the value of goods and services in that area) (Gu)."
   ]
  },
  {
   "cell_type": "markdown",
   "metadata": {},
   "source": [
    "**Approaches Overview**"
   ]
  },
  {
   "cell_type": "markdown",
   "metadata": {},
   "source": [
    "As to our approaches, we firstly did some data clean up and preparation. We handled the missing values in the dataset by firstly dropping all the columns that do not relate to our outcome based on the domain knowledge, then we added a column of month and a column of year to be used as features for each row. Then we use the SimpleImputer to automatically fill in all the rest of empty space. \n",
    "\n"
   ]
  },
  {
   "cell_type": "code",
   "execution_count": null,
   "metadata": {},
   "outputs": [],
   "source": []
  }
 ],
 "metadata": {
  "kernelspec": {
   "display_name": "Python 3",
   "language": "python",
   "name": "python3"
  },
  "language_info": {
   "codemirror_mode": {
    "name": "ipython",
    "version": 3
   },
   "file_extension": ".py",
   "mimetype": "text/x-python",
   "name": "python",
   "nbconvert_exporter": "python",
   "pygments_lexer": "ipython3",
   "version": "3.7.0"
  }
 },
 "nbformat": 4,
 "nbformat_minor": 2
}
