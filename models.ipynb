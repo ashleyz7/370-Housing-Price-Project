{
 "cells": [
  {
   "cell_type": "code",
   "execution_count": 30,
   "metadata": {},
   "outputs": [],
   "source": [
    "import numpy as np\n",
    "import pandas as pd\n",
    "from sklearn.model_selection import train_test_split, cross_val_score, KFold, GridSearchCV\n",
    "from sklearn.metrics import r2_score, mean_squared_error, mean_absolute_error\n",
    "\n",
    "from sklearn.pipeline import make_pipeline\n",
    "from sklearn.preprocessing import StandardScaler, PolynomialFeatures\n",
    "from sklearn.linear_model import LinearRegression, Ridge, Lasso, ElasticNet\n",
    "from sklearn.ensemble import GradientBoostingRegressor, RandomForestRegressor\n",
    "from sklearn.preprocessing import PolynomialFeatures\n",
    "from sklearn.svm import SVR"
   ]
  },
  {
   "cell_type": "markdown",
   "metadata": {},
   "source": [
    "# 7 Regressor Models"
   ]
  },
  {
   "cell_type": "code",
   "execution_count": 21,
   "metadata": {},
   "outputs": [],
   "source": [
    "poly = PolynomialFeatures()\n",
    "dscoring = 'neg_mean_absolute_error'\n",
    "folds = KFold(n_splits=10, shuffle=True, random_state=11)"
   ]
  },
  {
   "cell_type": "code",
   "execution_count": 28,
   "metadata": {},
   "outputs": [],
   "source": [
    "#ridge gridsearch (unsure if poly makes fit better)\n",
    "rid = Ridge()\n",
    "ripipe = make_pipeline(poly, rid)\n",
    "\n",
    "riparams = {\n",
    "            'polynomialfeatures__degree':range(1, 3),\n",
    "            'ridge__alpha': [.001, 0.1, 1.0]\n",
    "}\n",
    "rigrid = GridSearchCV(ripipe, riparams, scoring=dscoring, verbose=0, cv=folds, return_train_score=True)"
   ]
  },
  {
   "cell_type": "code",
   "execution_count": 18,
   "metadata": {},
   "outputs": [],
   "source": [
    "#lasso gridsearch\n",
    "las = Lasso()\n",
    "lpipe = make_pipeline(poly, las)\n",
    "\n",
    "lparams = {\n",
    "            #'polynomialfeatures__degree':range(1, 3),\n",
    "            'alpha': [.001, 0.1, 1.0]\n",
    "}\n",
    "lgrid = GridSearchCV(lpipe, lparams, scoring=dscoring, verbose=0, cv=folds, return_train_score=True)"
   ]
  },
  {
   "cell_type": "code",
   "execution_count": 23,
   "metadata": {},
   "outputs": [],
   "source": [
    "#elastic net gridsearch\n",
    "ela = ElasticNet()\n",
    "epipe = make_pipeline(poly, ela)\n",
    "\n",
    "eparams = {\n",
    "            #'polynomialfeatures__degree':range(1, 3),\n",
    "            'alpha': [0.1, 1.0]\n",
    "}\n",
    "egrid = GridSearchCV(epipe, eparams, scoring=dscoring, verbose=0, cv=folds, return_train_score=True)"
   ]
  },
  {
   "cell_type": "code",
   "execution_count": 24,
   "metadata": {},
   "outputs": [],
   "source": [
    "#random forest gridsearch\n",
    "rfr = RandomForestRegressor(n_estimators=1000)\n",
    "rfpipe = make_pipeline(poly, rfr)\n",
    "\n",
    "rfparams = {\n",
    "            #'polynomialfeatures__degree':range(1, 3),\n",
    "            'max_depth': [4,6],\n",
    "            'min_samples_leaf': [3, 5, 9],\n",
    "            'max_features': [1.0, 0.3, 0.1]\n",
    "}\n",
    "rfgrid = GridSearchCV(rfpipe, rfparams, scoring=dscoring, verbose=0, cv=folds, return_train_score=True)"
   ]
  },
  {
   "cell_type": "code",
   "execution_count": 25,
   "metadata": {},
   "outputs": [],
   "source": [
    "#gradient boosting gridsearch\n",
    "gbr = GradientBoostingRegressor(n_estimators=1000, loss='huber')\n",
    "gpipe = make_pipeline(poly, las)\n",
    "\n",
    "gparams = {\n",
    "            #'polynomialfeatures__degree':range(1, 3),\n",
    "            'learning_rate': [0.1, 0.05, 0.02],\n",
    "            'max_depth': [4, 6],\n",
    "            'min_samples_leaf': [3, 5, 9],\n",
    "            'max_features': [1.0, 0.3, 0.1]\n",
    "}\n",
    "ggrid = GridSearchCV(gpipe, gparams, scoring=dscoring, verbose=0, cv=folds, return_train_score=True)"
   ]
  },
  {
   "cell_type": "code",
   "execution_count": 32,
   "metadata": {},
   "outputs": [],
   "source": [
    "#2 types of support vector regressions linear & rbf gridsearch\n",
    "svr = SVR()\n",
    "spipe = make_pipeline(poly, svr)\n",
    "\n",
    "sparams = {\n",
    "            #'polynomialfeatures__degree':range(1, 3),\n",
    "            'kernel': ['linear', 'rbf'],\n",
    "}\n",
    "sgrid = GridSearchCV(spipe, sparams, scoring=dscoring, verbose=0, cv=folds, return_train_score=True)"
   ]
  },
  {
   "cell_type": "code",
   "execution_count": null,
   "metadata": {},
   "outputs": [],
   "source": [
    "rigrid.fit(X, y)\n",
    "rigrid.score(X, y)"
   ]
  },
  {
   "cell_type": "code",
   "execution_count": null,
   "metadata": {},
   "outputs": [],
   "source": [
    "lgrid.fit(X, y)\n",
    "lgrid.score(X, y)"
   ]
  },
  {
   "cell_type": "code",
   "execution_count": null,
   "metadata": {},
   "outputs": [],
   "source": [
    "egrid.fit(X, y)\n",
    "egrid.score(X, y)"
   ]
  },
  {
   "cell_type": "code",
   "execution_count": null,
   "metadata": {},
   "outputs": [],
   "source": [
    "rfgrid.fit(X, y)\n",
    "rfgrid.score(X, y)"
   ]
  },
  {
   "cell_type": "code",
   "execution_count": null,
   "metadata": {},
   "outputs": [],
   "source": [
    "ggrid.fit(X, y)\n",
    "ggrid.score(X, y)"
   ]
  },
  {
   "cell_type": "code",
   "execution_count": null,
   "metadata": {},
   "outputs": [],
   "source": [
    "sgrid.fit(X, y)\n",
    "sgrid.score(X, y)"
   ]
  }
 ],
 "metadata": {
  "kernelspec": {
   "display_name": "Python 3",
   "language": "python",
   "name": "python3"
  },
  "language_info": {
   "codemirror_mode": {
    "name": "ipython",
    "version": 3
   },
   "file_extension": ".py",
   "mimetype": "text/x-python",
   "name": "python",
   "nbconvert_exporter": "python",
   "pygments_lexer": "ipython3",
   "version": "3.7.0"
  }
 },
 "nbformat": 4,
 "nbformat_minor": 2
}
