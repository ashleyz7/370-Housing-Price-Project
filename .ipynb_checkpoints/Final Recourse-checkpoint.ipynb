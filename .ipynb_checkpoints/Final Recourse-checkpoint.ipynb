{
 "cells": [
  {
   "cell_type": "markdown",
   "metadata": {},
   "source": [
    "## INFO 370 FINAL PROJECT"
   ]
  },
  {
   "cell_type": "markdown",
   "metadata": {},
   "source": [
    "**Jonathan Lin, Yu Che Lin, Eva Yin, Ashley Zhou**"
   ]
  },
  {
   "cell_type": "markdown",
   "metadata": {},
   "source": [
    "#### Project Overview"
   ]
  },
  {
   "cell_type": "markdown",
   "metadata": {},
   "source": [
    "For research project, our team decided not to use the Zillow dataset, because we realized the variables within the Zillow dataset are mostly about price (median price of home with one bedroom, two bedrooms, etc.) and it would meaningless to use price variables predict another median price variable. Instead, we choose to use another dataset that contains housing information in Beijing because in addition to the housing price, it contains other aspects of metrics. Correspondingly, our research focus becomes identify potential factors that have an effect on the total transaction price of an house (which is the totalPrice listed in the dataset in a certain time period, representing the transaction price of the entire house through Lianjia website) in Beijing, and then try to use those factors to predict the total transaction price through the housing website Lianjia."
   ]
  },
  {
   "cell_type": "markdown",
   "metadata": {},
   "source": [
    "In terms of the source of data, we mainly work with the Kaggle Research Dataset (https://www.kaggle.com/ruiqurm/lianjia?fbclid=IwAR3wd9hpmt4sA4z5TueQVsQzMuL5eMGkqrQU8WdnQEpFp66Hu0_f0VjUDuI), which is fetched from Lianjia.com, a website where people posted housing information in Beijing. The dataset includes various different housing relevant metrics, like the time of transaction, the square of house, the number of bathroom, etc."
   ]
  },
  {
   "cell_type": "markdown",
   "metadata": {},
   "source": [
    "The **target audience** of our recourse would be groups of people who are planning to buy or sell houses in a few months or years in Beijing, either for their own usage or for financial investment. Therefore, we hope our audience would be able to gain some insights about the trend of listed housing prices in city Beijing, which may ultimately help them decide what some which months are the best time to buy or sell the properties and how to pick houses that have greater growth potential, etc."
   ]
  },
  {
   "cell_type": "markdown",
   "metadata": {},
   "source": [
    "**Background Information**"
   ]
  },
  {
   "cell_type": "markdown",
   "metadata": {},
   "source": [
    "To begin with, we did some **background research** to help contextualize your research. We believe our research would be really useful for our potential audience as one of the paper clearly states that, “property values have become an increasingly common topic of conversation in recent years”. In addition, it also mentions the most influential factors on housing price, including supply and demand, interest rates, economic growth, demographics, location, the potential of growth, a second bedroom, parking, home improvements. Each of them has a different level and direction of effects with the price of houses (House Prices). Similaryly, according to another research paper that focuses on finding the factors that influence the real estate price in London, several of the most significant variables that may affect house price including population density, income, and GVA (which is the measure of the value of goods and services in that area) (Gu)."
   ]
  },
  {
   "cell_type": "markdown",
   "metadata": {},
   "source": [
    "**Approaches Overview**"
   ]
  },
  {
   "cell_type": "markdown",
   "metadata": {},
   "source": [
    "As to our approaches, we firstly did some **data clean up and preparation**. We firstly dropped off all the irrelevant variables, including url (url used to fetch the data), id (transaction id), and Cid (community id) because they are not qualified. We also remove the columns Lng (longtitude) and Lat (Latitude), because even though they represent geographic location of certain house might have effect on the housing price, longitude and latitude are too abstract to be used for location identification, which may cause unnecessary confusion to our audience and we currently are not focusing the relationship between location and housing price. \n",
    "\n",
    "In terms of the **missing values handling**, we dropped all the rows that contains null values, because each house is independent to each other, for example, one house's renovation Condition will not be affected by another one's so it would be improper to use a mean value or use a value above to fill in another house's empty feature. \n",
    "\n",
    "As to the **new variables**, we firstly added a column of month and a column of year to be used as extra features for each row, representing the month and the year when a transaction occurs, and they are generated based on the month and year information from the tradeTime columns. In addition, we also made a totalRoom column that representing the total number of rooms within a house, calculated by adding the number of livingRoom, drawingRoom, kitchen and bathroom."
   ]
  },
  {
   "cell_type": "markdown",
   "metadata": {},
   "source": [
    "For the **feature selection**, we firstly use _univariate feature seleciton_ to select the variables that are most correlated to our outcome of interest, and the top 6 variables we got are DOM (a house's active days on the market), followers (the number of people follow the transaction), square (the total square of house), totalRoom (the total number of rooms), ladderRatio (the proportion between number of residents on the same floor and number of elevator and ladder on that floor, which it describes how many ladders a resident have on average) and floorfixed (the height of the house). We then try to verify the univaritate selection result by creating a _heatmap_ (attached below), which visualizes the correlation between all the variables and our outcome of interest (total transaction price). When looking at the heatmap, we ignored all the categorical variables (renovationCondition, buildingStructure, etc.) and mainly concentrated on the continuous variables. Based on the lightness of the block color (the lighter the block is, the more related it is to certain variable), we could see that square (the total square of house), totalRoom (the total number of rooms), floorfixed (the height of the house), DOM (a house's active days on the market) and year (year that this transaction occurs) are the most relevant variables, most of the variables conforms with what we got from feature selection (square, totalRoom, DOM, floorfixed) but it still provides us new variables we should consider (year). In the end, we combined the variables we got from both univariate feature selection and the heatmap, and thus the final set of variables we chose are DOM, followers, square, totalRoom, floorfixed, ladderRatio and year. \n",
    "\n"
   ]
  },
  {
   "cell_type": "code",
   "execution_count": null,
   "metadata": {},
   "outputs": [],
   "source": [
    "ana.correlation(ana.data)"
   ]
  },
  {
   "cell_type": "markdown",
   "metadata": {},
   "source": [
    "**Visualization**"
   ]
  },
  {
   "cell_type": "code",
   "execution_count": 1,
   "metadata": {},
   "outputs": [
    {
     "ename": "ModuleNotFoundError",
     "evalue": "No module named 'analysis2'",
     "output_type": "error",
     "traceback": [
      "\u001b[0;31m---------------------------------------------------------------------------\u001b[0m",
      "\u001b[0;31mModuleNotFoundError\u001b[0m                       Traceback (most recent call last)",
      "\u001b[0;32m<ipython-input-1-c1599b344eef>\u001b[0m in \u001b[0;36m<module>\u001b[0;34m\u001b[0m\n\u001b[0;32m----> 1\u001b[0;31m \u001b[0;32mimport\u001b[0m \u001b[0manalysis2\u001b[0m \u001b[0;32mas\u001b[0m \u001b[0mana\u001b[0m\u001b[0;34m\u001b[0m\u001b[0;34m\u001b[0m\u001b[0m\n\u001b[0m\u001b[1;32m      2\u001b[0m \u001b[0;32mimport\u001b[0m \u001b[0mimportlib\u001b[0m\u001b[0;34m\u001b[0m\u001b[0;34m\u001b[0m\u001b[0m\n\u001b[1;32m      3\u001b[0m \u001b[0;32mfrom\u001b[0m \u001b[0mIPython\u001b[0m\u001b[0;34m.\u001b[0m\u001b[0mdisplay\u001b[0m \u001b[0;32mimport\u001b[0m \u001b[0mHTML\u001b[0m\u001b[0;34m\u001b[0m\u001b[0;34m\u001b[0m\u001b[0m\n\u001b[1;32m      4\u001b[0m HTML('''<script>\n\u001b[1;32m      5\u001b[0m \u001b[0mcode_show\u001b[0m\u001b[0;34m=\u001b[0m\u001b[0mtrue\u001b[0m\u001b[0;34m;\u001b[0m\u001b[0;34m\u001b[0m\u001b[0;34m\u001b[0m\u001b[0m\n",
      "\u001b[0;31mModuleNotFoundError\u001b[0m: No module named 'analysis2'"
     ]
    }
   ],
   "source": [
    "import analysis as ana\n",
    "import importlib\n",
    "from IPython.display import HTML\n",
    "HTML('''<script>\n",
    "code_show=true; \n",
    "function code_toggle() {\n",
    " if (code_show){\n",
    " $('div.input').hide();\n",
    " } else {\n",
    " $('div.input').show();\n",
    " }\n",
    " code_show = !code_show\n",
    "} \n",
    "$( document ).ready(code_toggle);\n",
    "</script>\n",
    "<form action=\"javascript:code_toggle()\"><input type=\"submit\" value=\"Click here to toggle on/off the raw code.\"></form>''')"
   ]
  },
  {
   "cell_type": "code",
   "execution_count": null,
   "metadata": {},
   "outputs": [],
   "source": [
    "ana.month(ana.data)"
   ]
  },
  {
   "cell_type": "markdown",
   "metadata": {},
   "source": [
    "The bar graph above shows the **distribution of the average housing transaction price (unit is 10k rmb) in each month**, and we could see that the each month's average transaction prices are really close, with September being the month has highest average transaction price and May being the month has the lowest average transaction price. Compare with the overall trend, the housing transaction price is relatively lower from April to July."
   ]
  },
  {
   "cell_type": "code",
   "execution_count": null,
   "metadata": {},
   "outputs": [],
   "source": [
    "ana.year(ana.data)"
   ]
  },
  {
   "cell_type": "markdown",
   "metadata": {},
   "source": [
    "The bar graph above shows the **distribution of the average housing transaction price (unit is 10k rmb) in each year**, and we could see that there is an overall increasing trend in housing price from 2010 to 2018, with 2017 being the year has the highest average transaction price. One thing to notice is that the dataset only contains the January transaction data for 2018, so that might be the reason that the average price of 2018 is lower than that of 2017."
   ]
  },
  {
   "cell_type": "code",
   "execution_count": null,
   "metadata": {},
   "outputs": [],
   "source": [
    "ana.price(ana.data)"
   ]
  },
  {
   "cell_type": "markdown",
   "metadata": {},
   "source": [
    "The histogram graph above shows the **distribution of the average housing transaction price**, and we could see that the majority of transaction occurs when the price is between 0k and 5000k rmb, and there are relatively fewer transactions occurs then the price is above 1000k rmb.\n",
    "\n"
   ]
  },
  {
   "cell_type": "code",
   "execution_count": null,
   "metadata": {},
   "outputs": [],
   "source": [
    "ana.square_corr(ana.data)"
   ]
  },
  {
   "cell_type": "markdown",
   "metadata": {},
   "source": [
    "The scatter plot graph above shows the **relationship between the square of a house and its housing transaction price**, and we could see that the overall trend is as the square of a house increases, the transaction price will also increase, which is quite intuitive. However, this disperse of the plots still shows that houses with the same square (for instance, 300) may still be transacted at different prices, meaning that other factors also have effect on housing transaction price. "
   ]
  }
 ],
 "metadata": {
  "kernelspec": {
   "display_name": "Python 3",
   "language": "python",
   "name": "python3"
  },
  "language_info": {
   "codemirror_mode": {
    "name": "ipython",
    "version": 3
   },
   "file_extension": ".py",
   "mimetype": "text/x-python",
   "name": "python",
   "nbconvert_exporter": "python",
   "pygments_lexer": "ipython3",
   "version": "3.7.1"
  }
 },
 "nbformat": 4,
 "nbformat_minor": 2
}
