{
 "cells": [
  {
   "cell_type": "code",
   "execution_count": 1,
   "metadata": {},
   "outputs": [],
   "source": [
    "import pandas as pd\n",
    "import numpy as np\n",
    "import matplotlib.pyplot as plt\n",
    "import seaborn as sns\n",
    "from sklearn.feature_selection import SelectKBest\n",
    "from sklearn.feature_selection import chi2\n",
    "from sklearn.preprocessing import MinMaxScaler       # scaling data\n",
    "\n",
    "from sklearn.model_selection import train_test_split, cross_val_score, KFold, GridSearchCV\n",
    "from sklearn.metrics import r2_score, mean_squared_error, mean_absolute_error\n",
    "\n",
    "from sklearn.pipeline import make_pipeline\n",
    "from sklearn.preprocessing import StandardScaler, PolynomialFeatures\n",
    "from sklearn.linear_model import LinearRegression, Ridge\n",
    "from sklearn.ensemble import GradientBoostingRegressor, RandomForestRegressor\n",
    "from sklearn.preprocessing import PolynomialFeatures\n",
    "import warnings\n",
    "warnings.filterwarnings('ignore')"
   ]
  },
  {
   "cell_type": "code",
   "execution_count": 2,
   "metadata": {
    "scrolled": true
   },
   "outputs": [
    {
     "data": {
      "text/html": [
       "<div>\n",
       "<style scoped>\n",
       "    .dataframe tbody tr th:only-of-type {\n",
       "        vertical-align: middle;\n",
       "    }\n",
       "\n",
       "    .dataframe tbody tr th {\n",
       "        vertical-align: top;\n",
       "    }\n",
       "\n",
       "    .dataframe thead th {\n",
       "        text-align: right;\n",
       "    }\n",
       "</style>\n",
       "<table border=\"1\" class=\"dataframe\">\n",
       "  <thead>\n",
       "    <tr style=\"text-align: right;\">\n",
       "      <th></th>\n",
       "      <th>url</th>\n",
       "      <th>id</th>\n",
       "      <th>Lng</th>\n",
       "      <th>Lat</th>\n",
       "      <th>Cid</th>\n",
       "      <th>tradeTime</th>\n",
       "      <th>DOM</th>\n",
       "      <th>followers</th>\n",
       "      <th>totalPrice</th>\n",
       "      <th>price</th>\n",
       "      <th>...</th>\n",
       "      <th>constructionTime</th>\n",
       "      <th>renovationCondition</th>\n",
       "      <th>buildingStructure</th>\n",
       "      <th>ladderRatio</th>\n",
       "      <th>elevator</th>\n",
       "      <th>fiveYearsProperty</th>\n",
       "      <th>subway</th>\n",
       "      <th>district</th>\n",
       "      <th>communityAverage</th>\n",
       "      <th>floorfixed</th>\n",
       "    </tr>\n",
       "  </thead>\n",
       "  <tbody>\n",
       "    <tr>\n",
       "      <th>0</th>\n",
       "      <td>https://bj.lianjia.com/chengjiao/101084782030....</td>\n",
       "      <td>1.01E+11</td>\n",
       "      <td>116.475489</td>\n",
       "      <td>40.019520</td>\n",
       "      <td>1.110000e+12</td>\n",
       "      <td>8/9/2016</td>\n",
       "      <td>1464.0</td>\n",
       "      <td>106</td>\n",
       "      <td>415.0</td>\n",
       "      <td>31680</td>\n",
       "      <td>...</td>\n",
       "      <td>2005.0</td>\n",
       "      <td>3</td>\n",
       "      <td>6</td>\n",
       "      <td>0.217</td>\n",
       "      <td>1.0</td>\n",
       "      <td>0.0</td>\n",
       "      <td>1.0</td>\n",
       "      <td>7</td>\n",
       "      <td>56021.0</td>\n",
       "      <td>26</td>\n",
       "    </tr>\n",
       "    <tr>\n",
       "      <th>1</th>\n",
       "      <td>https://bj.lianjia.com/chengjiao/101086012217....</td>\n",
       "      <td>1.01E+11</td>\n",
       "      <td>116.453917</td>\n",
       "      <td>39.881534</td>\n",
       "      <td>1.110000e+12</td>\n",
       "      <td>7/28/2016</td>\n",
       "      <td>903.0</td>\n",
       "      <td>126</td>\n",
       "      <td>575.0</td>\n",
       "      <td>43436</td>\n",
       "      <td>...</td>\n",
       "      <td>2004.0</td>\n",
       "      <td>4</td>\n",
       "      <td>6</td>\n",
       "      <td>0.667</td>\n",
       "      <td>1.0</td>\n",
       "      <td>1.0</td>\n",
       "      <td>0.0</td>\n",
       "      <td>7</td>\n",
       "      <td>71539.0</td>\n",
       "      <td>22</td>\n",
       "    </tr>\n",
       "    <tr>\n",
       "      <th>2</th>\n",
       "      <td>https://bj.lianjia.com/chengjiao/101086041636....</td>\n",
       "      <td>1.01E+11</td>\n",
       "      <td>116.561978</td>\n",
       "      <td>39.877145</td>\n",
       "      <td>1.110000e+12</td>\n",
       "      <td>12/11/2016</td>\n",
       "      <td>1271.0</td>\n",
       "      <td>48</td>\n",
       "      <td>1030.0</td>\n",
       "      <td>52021</td>\n",
       "      <td>...</td>\n",
       "      <td>2005.0</td>\n",
       "      <td>3</td>\n",
       "      <td>6</td>\n",
       "      <td>0.500</td>\n",
       "      <td>1.0</td>\n",
       "      <td>0.0</td>\n",
       "      <td>0.0</td>\n",
       "      <td>7</td>\n",
       "      <td>48160.0</td>\n",
       "      <td>4</td>\n",
       "    </tr>\n",
       "    <tr>\n",
       "      <th>3</th>\n",
       "      <td>https://bj.lianjia.com/chengjiao/101086406841....</td>\n",
       "      <td>1.01E+11</td>\n",
       "      <td>116.438010</td>\n",
       "      <td>40.076114</td>\n",
       "      <td>1.110000e+12</td>\n",
       "      <td>9/30/2016</td>\n",
       "      <td>965.0</td>\n",
       "      <td>138</td>\n",
       "      <td>297.5</td>\n",
       "      <td>22202</td>\n",
       "      <td>...</td>\n",
       "      <td>2008.0</td>\n",
       "      <td>1</td>\n",
       "      <td>6</td>\n",
       "      <td>0.273</td>\n",
       "      <td>1.0</td>\n",
       "      <td>0.0</td>\n",
       "      <td>0.0</td>\n",
       "      <td>6</td>\n",
       "      <td>51238.0</td>\n",
       "      <td>21</td>\n",
       "    </tr>\n",
       "    <tr>\n",
       "      <th>4</th>\n",
       "      <td>https://bj.lianjia.com/chengjiao/101086920653....</td>\n",
       "      <td>1.01E+11</td>\n",
       "      <td>116.428392</td>\n",
       "      <td>39.886229</td>\n",
       "      <td>1.110000e+12</td>\n",
       "      <td>8/28/2016</td>\n",
       "      <td>927.0</td>\n",
       "      <td>286</td>\n",
       "      <td>392.0</td>\n",
       "      <td>48396</td>\n",
       "      <td>...</td>\n",
       "      <td>1960.0</td>\n",
       "      <td>2</td>\n",
       "      <td>2</td>\n",
       "      <td>0.333</td>\n",
       "      <td>0.0</td>\n",
       "      <td>1.0</td>\n",
       "      <td>1.0</td>\n",
       "      <td>1</td>\n",
       "      <td>62588.0</td>\n",
       "      <td>6</td>\n",
       "    </tr>\n",
       "  </tbody>\n",
       "</table>\n",
       "<p>5 rows × 26 columns</p>\n",
       "</div>"
      ],
      "text/plain": [
       "                                                 url        id         Lng  \\\n",
       "0  https://bj.lianjia.com/chengjiao/101084782030....  1.01E+11  116.475489   \n",
       "1  https://bj.lianjia.com/chengjiao/101086012217....  1.01E+11  116.453917   \n",
       "2  https://bj.lianjia.com/chengjiao/101086041636....  1.01E+11  116.561978   \n",
       "3  https://bj.lianjia.com/chengjiao/101086406841....  1.01E+11  116.438010   \n",
       "4  https://bj.lianjia.com/chengjiao/101086920653....  1.01E+11  116.428392   \n",
       "\n",
       "         Lat           Cid   tradeTime     DOM  followers  totalPrice  price  \\\n",
       "0  40.019520  1.110000e+12    8/9/2016  1464.0        106       415.0  31680   \n",
       "1  39.881534  1.110000e+12   7/28/2016   903.0        126       575.0  43436   \n",
       "2  39.877145  1.110000e+12  12/11/2016  1271.0         48      1030.0  52021   \n",
       "3  40.076114  1.110000e+12   9/30/2016   965.0        138       297.5  22202   \n",
       "4  39.886229  1.110000e+12   8/28/2016   927.0        286       392.0  48396   \n",
       "\n",
       "      ...      constructionTime renovationCondition buildingStructure  \\\n",
       "0     ...                2005.0                   3                 6   \n",
       "1     ...                2004.0                   4                 6   \n",
       "2     ...                2005.0                   3                 6   \n",
       "3     ...                2008.0                   1                 6   \n",
       "4     ...                1960.0                   2                 2   \n",
       "\n",
       "   ladderRatio elevator  fiveYearsProperty  subway  district  \\\n",
       "0        0.217      1.0                0.0     1.0         7   \n",
       "1        0.667      1.0                1.0     0.0         7   \n",
       "2        0.500      1.0                0.0     0.0         7   \n",
       "3        0.273      1.0                0.0     0.0         6   \n",
       "4        0.333      0.0                1.0     1.0         1   \n",
       "\n",
       "   communityAverage  floorfixed  \n",
       "0           56021.0          26  \n",
       "1           71539.0          22  \n",
       "2           48160.0           4  \n",
       "3           51238.0          21  \n",
       "4           62588.0           6  \n",
       "\n",
       "[5 rows x 26 columns]"
      ]
     },
     "execution_count": 2,
     "metadata": {},
     "output_type": "execute_result"
    }
   ],
   "source": [
    "data = pd.read_csv('new.csv',encoding='cp1252',dtype={'id': 'str', 'livingRoom': 'str', 'drawingRoom': 'str','bathRoom': 'str'})\n",
    "data.head()\n"
   ]
  },
  {
   "cell_type": "code",
   "execution_count": 3,
   "metadata": {},
   "outputs": [
    {
     "data": {
      "text/html": [
       "<div>\n",
       "<style scoped>\n",
       "    .dataframe tbody tr th:only-of-type {\n",
       "        vertical-align: middle;\n",
       "    }\n",
       "\n",
       "    .dataframe tbody tr th {\n",
       "        vertical-align: top;\n",
       "    }\n",
       "\n",
       "    .dataframe thead th {\n",
       "        text-align: right;\n",
       "    }\n",
       "</style>\n",
       "<table border=\"1\" class=\"dataframe\">\n",
       "  <thead>\n",
       "    <tr style=\"text-align: right;\">\n",
       "      <th></th>\n",
       "      <th>tradeTime</th>\n",
       "      <th>DOM</th>\n",
       "      <th>followers</th>\n",
       "      <th>totalPrice</th>\n",
       "      <th>square</th>\n",
       "      <th>livingRoom</th>\n",
       "      <th>drawingRoom</th>\n",
       "      <th>kitchen</th>\n",
       "      <th>bathRoom</th>\n",
       "      <th>buildingType</th>\n",
       "      <th>constructionTime</th>\n",
       "      <th>renovationCondition</th>\n",
       "      <th>buildingStructure</th>\n",
       "      <th>ladderRatio</th>\n",
       "      <th>elevator</th>\n",
       "      <th>fiveYearsProperty</th>\n",
       "      <th>subway</th>\n",
       "      <th>district</th>\n",
       "      <th>floorfixed</th>\n",
       "    </tr>\n",
       "  </thead>\n",
       "  <tbody>\n",
       "    <tr>\n",
       "      <th>0</th>\n",
       "      <td>8/9/2016</td>\n",
       "      <td>1464.0</td>\n",
       "      <td>106</td>\n",
       "      <td>415.0</td>\n",
       "      <td>131.00</td>\n",
       "      <td>2</td>\n",
       "      <td>1</td>\n",
       "      <td>1</td>\n",
       "      <td>1</td>\n",
       "      <td>1.0</td>\n",
       "      <td>2005.0</td>\n",
       "      <td>3</td>\n",
       "      <td>6</td>\n",
       "      <td>0.217</td>\n",
       "      <td>1.0</td>\n",
       "      <td>0.0</td>\n",
       "      <td>1.0</td>\n",
       "      <td>7</td>\n",
       "      <td>26</td>\n",
       "    </tr>\n",
       "    <tr>\n",
       "      <th>1</th>\n",
       "      <td>7/28/2016</td>\n",
       "      <td>903.0</td>\n",
       "      <td>126</td>\n",
       "      <td>575.0</td>\n",
       "      <td>132.38</td>\n",
       "      <td>2</td>\n",
       "      <td>2</td>\n",
       "      <td>1</td>\n",
       "      <td>2</td>\n",
       "      <td>1.0</td>\n",
       "      <td>2004.0</td>\n",
       "      <td>4</td>\n",
       "      <td>6</td>\n",
       "      <td>0.667</td>\n",
       "      <td>1.0</td>\n",
       "      <td>1.0</td>\n",
       "      <td>0.0</td>\n",
       "      <td>7</td>\n",
       "      <td>22</td>\n",
       "    </tr>\n",
       "    <tr>\n",
       "      <th>2</th>\n",
       "      <td>12/11/2016</td>\n",
       "      <td>1271.0</td>\n",
       "      <td>48</td>\n",
       "      <td>1030.0</td>\n",
       "      <td>198.00</td>\n",
       "      <td>3</td>\n",
       "      <td>2</td>\n",
       "      <td>1</td>\n",
       "      <td>3</td>\n",
       "      <td>4.0</td>\n",
       "      <td>2005.0</td>\n",
       "      <td>3</td>\n",
       "      <td>6</td>\n",
       "      <td>0.500</td>\n",
       "      <td>1.0</td>\n",
       "      <td>0.0</td>\n",
       "      <td>0.0</td>\n",
       "      <td>7</td>\n",
       "      <td>4</td>\n",
       "    </tr>\n",
       "    <tr>\n",
       "      <th>3</th>\n",
       "      <td>9/30/2016</td>\n",
       "      <td>965.0</td>\n",
       "      <td>138</td>\n",
       "      <td>297.5</td>\n",
       "      <td>134.00</td>\n",
       "      <td>3</td>\n",
       "      <td>1</td>\n",
       "      <td>1</td>\n",
       "      <td>1</td>\n",
       "      <td>1.0</td>\n",
       "      <td>2008.0</td>\n",
       "      <td>1</td>\n",
       "      <td>6</td>\n",
       "      <td>0.273</td>\n",
       "      <td>1.0</td>\n",
       "      <td>0.0</td>\n",
       "      <td>0.0</td>\n",
       "      <td>6</td>\n",
       "      <td>21</td>\n",
       "    </tr>\n",
       "    <tr>\n",
       "      <th>4</th>\n",
       "      <td>8/28/2016</td>\n",
       "      <td>927.0</td>\n",
       "      <td>286</td>\n",
       "      <td>392.0</td>\n",
       "      <td>81.00</td>\n",
       "      <td>2</td>\n",
       "      <td>1</td>\n",
       "      <td>1</td>\n",
       "      <td>1</td>\n",
       "      <td>4.0</td>\n",
       "      <td>1960.0</td>\n",
       "      <td>2</td>\n",
       "      <td>2</td>\n",
       "      <td>0.333</td>\n",
       "      <td>0.0</td>\n",
       "      <td>1.0</td>\n",
       "      <td>1.0</td>\n",
       "      <td>1</td>\n",
       "      <td>6</td>\n",
       "    </tr>\n",
       "  </tbody>\n",
       "</table>\n",
       "</div>"
      ],
      "text/plain": [
       "    tradeTime     DOM  followers  totalPrice  square livingRoom drawingRoom  \\\n",
       "0    8/9/2016  1464.0        106       415.0  131.00          2           1   \n",
       "1   7/28/2016   903.0        126       575.0  132.38          2           2   \n",
       "2  12/11/2016  1271.0         48      1030.0  198.00          3           2   \n",
       "3   9/30/2016   965.0        138       297.5  134.00          3           1   \n",
       "4   8/28/2016   927.0        286       392.0   81.00          2           1   \n",
       "\n",
       "   kitchen bathRoom  buildingType  constructionTime  renovationCondition  \\\n",
       "0        1        1           1.0            2005.0                    3   \n",
       "1        1        2           1.0            2004.0                    4   \n",
       "2        1        3           4.0            2005.0                    3   \n",
       "3        1        1           1.0            2008.0                    1   \n",
       "4        1        1           4.0            1960.0                    2   \n",
       "\n",
       "   buildingStructure  ladderRatio  elevator  fiveYearsProperty  subway  \\\n",
       "0                  6        0.217       1.0                0.0     1.0   \n",
       "1                  6        0.667       1.0                1.0     0.0   \n",
       "2                  6        0.500       1.0                0.0     0.0   \n",
       "3                  6        0.273       1.0                0.0     0.0   \n",
       "4                  2        0.333       0.0                1.0     1.0   \n",
       "\n",
       "   district floorfixed  \n",
       "0         7         26  \n",
       "1         7         22  \n",
       "2         7          4  \n",
       "3         6         21  \n",
       "4         1          6  "
      ]
     },
     "execution_count": 3,
     "metadata": {},
     "output_type": "execute_result"
    }
   ],
   "source": [
    "# Cleaning up data\n",
    "\n",
    "# filter out 'id'\n",
    "data = data.drop(['url', 'id', 'Lng', 'Lat', 'Cid', 'price', 'communityAverage'], axis=1)\n",
    "\n",
    "\n",
    "def filter_nulls(data):\n",
    "    for column in data.columns:\n",
    "        data = data[data[column].notnull()]\n",
    "        \n",
    "    return data\n",
    "data = filter_nulls(data)\n",
    "data.head()"
   ]
  },
  {
   "cell_type": "code",
   "execution_count": 4,
   "metadata": {},
   "outputs": [],
   "source": [
    "# #normalize\n",
    "# from sklearn import preprocessing\n",
    "# names = data.columns\n",
    "# scaled_data = preprocessing.normalize(data)\n",
    "# scaled_data = pd.DataFrame(scaled_data, columns=names)"
   ]
  },
  {
   "cell_type": "code",
   "execution_count": 5,
   "metadata": {},
   "outputs": [],
   "source": [
    "# Add two new columns that individually record year and month of that row\n",
    "month = []\n",
    "year = []\n",
    "for date in data['tradeTime']:\n",
    "    month.append(date.split('/')[0])\n",
    "    year.append(date[-2:])\n",
    "\n",
    "data['month'] = month\n",
    "data['year'] = year\n",
    "data = data.drop('tradeTime', axis=1)\n",
    "\n",
    "data['month']=data['month'].astype('int64')\n",
    "data['year']=data['year'].astype('int64')\n",
    "data['livingRoom']=data['livingRoom'].astype('int64')\n",
    "data['drawingRoom']=data['drawingRoom'].astype('int64')\n",
    "data['bathRoom']=data['bathRoom'].astype('int64')\n",
    "data['floorfixed']=data['floorfixed'].astype('int64')\n",
    "\n"
   ]
  },
  {
   "cell_type": "code",
   "execution_count": 6,
   "metadata": {},
   "outputs": [
    {
     "data": {
      "text/plain": [
       "DOM                    float64\n",
       "followers                int64\n",
       "totalPrice             float64\n",
       "square                 float64\n",
       "livingRoom               int64\n",
       "drawingRoom              int64\n",
       "kitchen                  int64\n",
       "bathRoom                 int64\n",
       "buildingType           float64\n",
       "constructionTime       float64\n",
       "renovationCondition      int64\n",
       "buildingStructure        int64\n",
       "ladderRatio            float64\n",
       "elevator               float64\n",
       "fiveYearsProperty      float64\n",
       "subway                 float64\n",
       "district                 int64\n",
       "floorfixed               int64\n",
       "month                    int64\n",
       "year                     int64\n",
       "dtype: object"
      ]
     },
     "execution_count": 6,
     "metadata": {},
     "output_type": "execute_result"
    }
   ],
   "source": [
    "data.head()\n",
    "data.dtypes"
   ]
  },
  {
   "cell_type": "code",
   "execution_count": 7,
   "metadata": {},
   "outputs": [],
   "source": [
    "# # Handling missing values\n",
    "# col_name = data.columns\n",
    "# from sklearn.impute import SimpleImputer\n",
    "# impu = SimpleImputer()\n",
    "# data = pd.DataFrame(impu.fit_transform(data))\n",
    "# data.columns = col_name\n",
    "\n",
    "# data['month']=data['month'].astype('int64')\n",
    "# data['year']=data['year'].astype('int64')"
   ]
  },
  {
   "cell_type": "code",
   "execution_count": 8,
   "metadata": {},
   "outputs": [
    {
     "data": {
      "text/plain": [
       "kitchen                1.372768e-02\n",
       "bathRoom               1.820981e-01\n",
       "fiveYearsProperty      2.376207e-01\n",
       "subway                 2.405357e-01\n",
       "elevator               2.443507e-01\n",
       "drawingRoom            2.587459e-01\n",
       "livingRoom             5.951698e-01\n",
       "renovationCondition    1.306420e+00\n",
       "buildingType           1.587546e+00\n",
       "year                   1.696978e+00\n",
       "buildingStructure      3.629942e+00\n",
       "district               8.083766e+00\n",
       "month                  1.194277e+01\n",
       "floorfixed             6.104940e+01\n",
       "constructionTime       8.100171e+01\n",
       "square                 1.331267e+03\n",
       "followers              1.972733e+03\n",
       "DOM                    2.537191e+03\n",
       "totalPrice             6.434538e+04\n",
       "ladderRatio            6.574194e+08\n",
       "dtype: float64"
      ]
     },
     "execution_count": 8,
     "metadata": {},
     "output_type": "execute_result"
    }
   ],
   "source": [
    "# ####### checking variance, for variance selector we need to specify a threshold (e.g. 0.01) to actually remove features\n",
    "# ####### or use along with select percentile\n",
    "data.var().sort_values()\n",
    "\n"
   ]
  },
  {
   "cell_type": "code",
   "execution_count": 9,
   "metadata": {},
   "outputs": [],
   "source": [
    "# #Removing features with low variance\n",
    "# def variance_threshold_selector(data,threshold):\n",
    "#     sel = VarianceThreshold(threshold) \n",
    "#     sel.fit(data)\n",
    "#     return data[data.columns[sel.get_support(indices=True)]]\n",
    "\n",
    "\n",
    "# var_threshold = variance_threshold_selector(data, threshold=8.082569) \n",
    "\n",
    "\n",
    "# data.shape"
   ]
  },
  {
   "cell_type": "code",
   "execution_count": 10,
   "metadata": {},
   "outputs": [
    {
     "data": {
      "text/plain": [
       "Index(['DOM', 'followers', 'totalPrice', 'square', 'livingRoom', 'ladderRatio',\n",
       "       'floorfixed'],\n",
       "      dtype='object')"
      ]
     },
     "execution_count": 10,
     "metadata": {},
     "output_type": "execute_result"
    }
   ],
   "source": [
    "#Univariate feature selection\n",
    "def univariate_feature_selector(data, k=7):\n",
    "    uni_select = SelectKBest(chi2, k)\n",
    "    uni_select.fit_transform(data,data.totalPrice.astype(int))\n",
    "    return data[data.columns[uni_select.get_support(indices=True)]]\n",
    "\n",
    "data_uni = univariate_feature_selector(data, k=7) \n",
    "data_uni.columns"
   ]
  },
  {
   "cell_type": "code",
   "execution_count": 19,
   "metadata": {},
   "outputs": [],
   "source": [
    "# Split data in two cities into test and training data with a test size of 30% (.3)\n",
    "from sklearn.model_selection import train_test_split # typically done at the start\n",
    "train_features, test_features, train_outcome, test_outcome = train_test_split(\n",
    "    data_uni.drop('totalPrice', axis=1), # features\n",
    "    data_uni.totalPrice, # outcome\n",
    "    random_state = 1,\n",
    "    test_size=0.3 # percentage of data to use as the test set\n",
    ")"
   ]
  },
  {
   "cell_type": "code",
   "execution_count": 12,
   "metadata": {},
   "outputs": [],
   "source": [
    "poly = PolynomialFeatures()\n",
    "dscoring = 'neg_mean_absolute_error'\n",
    "folds = KFold(n_splits=10, shuffle=True, random_state=11)"
   ]
  },
  {
   "cell_type": "code",
   "execution_count": 13,
   "metadata": {},
   "outputs": [
    {
     "data": {
      "text/plain": [
       "-141.51332913349918"
      ]
     },
     "execution_count": 13,
     "metadata": {},
     "output_type": "execute_result"
    }
   ],
   "source": [
    "#ridge gridsearch (unsure if poly makes fit better)\n",
    "rid = Ridge()\n",
    "ripipe = make_pipeline(poly, rid)\n",
    "\n",
    "riparams = {\n",
    "            'polynomialfeatures__degree':range(1, 5),\n",
    "            'ridge__alpha': [.001, 0.1, 1.0]\n",
    "}\n",
    "rigrid = GridSearchCV(ripipe, riparams, scoring=dscoring, verbose=0, cv=folds, return_train_score=True)\n",
    "rigrid.fit(train_features, train_outcome)\n",
    "rigrid.score(test_features, test_outcome)"
   ]
  },
  {
   "cell_type": "code",
   "execution_count": 14,
   "metadata": {},
   "outputs": [
    {
     "data": {
      "text/plain": [
       "-128.19151228154595"
      ]
     },
     "execution_count": 14,
     "metadata": {},
     "output_type": "execute_result"
    }
   ],
   "source": [
    "# KNN Regressor\n",
    "from sklearn.neighbors import KNeighborsRegressor    # regressor\n",
    "\n",
    "scaler = MinMaxScaler()\n",
    "knn = KNeighborsRegressor()\n",
    "# Create a grid search estimator \n",
    "param_grid_knn={'kneighborsregressor__n_neighbors': range(1, 5),\n",
    "            'kneighborsregressor__weights':['uniform', 'distance']}\n",
    "pipeline_knn = make_pipeline(scaler, knn)\n",
    "#search the parameter grid using cross validation (across 10 different splits of the data)\n",
    "grid_knn = GridSearchCV(pipeline_knn, param_grid=param_grid_knn, cv=10, scoring=\"neg_mean_absolute_error\") \n",
    "grid_knn.fit(train_features, train_outcome)\n",
    "grid_knn.score(test_features, test_outcome)\n"
   ]
  },
  {
   "cell_type": "code",
   "execution_count": 15,
   "metadata": {},
   "outputs": [
    {
     "data": {
      "text/plain": [
       "-134.4392917315591"
      ]
     },
     "execution_count": 15,
     "metadata": {},
     "output_type": "execute_result"
    }
   ],
   "source": [
    "# AdaBoostRegressor\n",
    "# this model take a long time to run\n",
    "from sklearn.ensemble import AdaBoostRegressor\n",
    "ada = AdaBoostRegressor()\n",
    "# Create a grid search estimator \n",
    "param_grid_ada={'n_estimators': range (1, 5),\n",
    "            'learning_rate': np.arange(10, 15, 0.1),\n",
    "            'loss': ['linear', 'square', 'exponential']\n",
    "               }\n",
    "#search the parameter grid using cross validation (across 10 different splits of the data)\n",
    "grid_ada = GridSearchCV(ada, param_grid=param_grid_ada, cv=10, scoring=\"neg_mean_absolute_error\") \n",
    "grid_ada.fit(train_features, train_outcome)\n",
    "grid_ada.score(test_features, test_outcome)"
   ]
  },
  {
   "cell_type": "code",
   "execution_count": 28,
   "metadata": {},
   "outputs": [
    {
     "data": {
      "text/plain": [
       "-120.02696158202534"
      ]
     },
     "execution_count": 28,
     "metadata": {},
     "output_type": "execute_result"
    }
   ],
   "source": [
    "#random forest gridsearch\n",
    "rfr = RandomForestRegressor()\n",
    "\n",
    "rfparams = {\n",
    "            #'polynomialfeatures__degree':range(1, 5),\n",
    "            'n_estimators': range(1, 5),\n",
    "            'min_samples_split': range(5, 15),\n",
    "            'max_depth': [4,6],\n",
    "            'min_samples_leaf': [3, 5, 9],\n",
    "            'max_features': [1.0, 0.3, 0.1]       \n",
    "}\n",
    "rfgrid = GridSearchCV(rfr, rfparams, scoring=dscoring, verbose=0, cv=folds, return_train_score=True)\n",
    "rfgrid.fit(train_features, train_outcome)\n",
    "rfgrid.score(test_features, test_outcome)"
   ]
  },
  {
   "cell_type": "code",
   "execution_count": null,
   "metadata": {},
   "outputs": [],
   "source": [
    "#gradient boosting gridsearch\n",
    "gbr = GradientBoostingRegressor(n_estimators=1000, loss='huber')\n",
    "\n",
    "gparams = {\n",
    "            #'polynomialfeatures__degree':range(1, 5),\n",
    "            'learning_rate': [0.1, 0.05, 0.02],\n",
    "            'max_depth': [4, 6],\n",
    "            'min_samples_leaf': [3, 5, 9],\n",
    "            'max_features': [1.0, 0.3, 0.1]\n",
    "}\n",
    "ggrid = GridSearchCV(gbr, gparams, scoring=dscoring, verbose=0, cv=folds, return_train_score=True)\n",
    "ggrid.fit(train_features, train_outcome)\n",
    "ggrid.score(test_features, test_outcome)"
   ]
  },
  {
   "cell_type": "code",
   "execution_count": 35,
   "metadata": {},
   "outputs": [
    {
     "data": {
      "image/png": "[encoded data removed]",
      "text/plain": [
       "<Figure size 432x288 with 1 Axes>"
      ]
     },
     "metadata": {
      "needs_background": "light"
     },
     "output_type": "display_data"
    }
   ],
   "source": [
    "def month(dataset):\n",
    "    \"\"\"distribution of the average housing transaction price (unit is 10k) each month\n",
    "    \"\"\"\n",
    "    price_month = dataset.groupby('month').mean()\n",
    "    plt.bar(price_month.index, price_month.totalPrice)\n",
    "    plt.xlabel('Month')\n",
    "    plt.ylabel('Average House Transaction Price (unit 10k)')\n",
    "    plt.title('Monthly Distribution of Average House Transaction Price for Beijing' )\n",
    "    plt.show()\n",
    "month(data)"
   ]
  },
  {
   "cell_type": "code",
   "execution_count": 36,
   "metadata": {},
   "outputs": [
    {
     "data": {
      "image/png": "[encoded data removed]",
      "text/plain": [
       "<Figure size 432x288 with 1 Axes>"
      ]
     },
     "metadata": {
      "needs_background": "light"
     },
     "output_type": "display_data"
    }
   ],
   "source": [
    "def year(dataset):\n",
    "    \"\"\"distribution of the average housing transaction price (unit is 10k) each year\n",
    "    \"\"\"\n",
    "    price_year = dataset.groupby('year').mean()\n",
    "    plt.bar(price_year.index, price_year.totalPrice)\n",
    "    plt.xlabel('Year')\n",
    "    plt.ylabel('Average House Transaction Price (unit 10k)')\n",
    "    plt.title('Yearly Distribution of Average House Transaction Price for Beijing' )\n",
    "    plt.show()\n",
    "year(data)"
   ]
  },
  {
   "cell_type": "code",
   "execution_count": 37,
   "metadata": {},
   "outputs": [
    {
     "data": {
      "image/png": "[encoded data removed]",
      "text/plain": [
       "<Figure size 720x720 with 2 Axes>"
      ]
     },
     "metadata": {
      "needs_background": "light"
     },
     "output_type": "display_data"
    }
   ],
   "source": [
    "def correlation(dataset):\n",
    "    \"\"\"plot each variable selected by univariate selection to find their relationship with totalPrice\n",
    "    \"\"\" \n",
    "    plt.figure(figsize = (10, 10))\n",
    "    sns.heatmap(dataset.corr(), annot=True, fmt='1f')\n",
    "    plt.title('Beijing')\n",
    "    plt.show()\n",
    "correlation(data_uni)"
   ]
  },
  {
   "cell_type": "markdown",
   "metadata": {},
   "source": []
  },
  {
   "cell_type": "code",
   "execution_count": null,
   "metadata": {},
   "outputs": [],
   "source": []
  }
 ],
 "metadata": {
  "kernelspec": {
   "display_name": "Python 3",
   "language": "python",
   "name": "python3"
  },
  "language_info": {
   "codemirror_mode": {
    "name": "ipython",
    "version": 3
   },
   "file_extension": ".py",
   "mimetype": "text/x-python",
   "name": "python",
   "nbconvert_exporter": "python",
   "pygments_lexer": "ipython3",
   "version": "3.7.0"
  }
 },
 "nbformat": 4,
 "nbformat_minor": 2
}
